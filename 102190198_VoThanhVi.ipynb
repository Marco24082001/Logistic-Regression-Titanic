{
  "cells": [
    {
      "cell_type": "markdown",
      "metadata": {},
      "source": [
        "# Import library"
      ]
    },
    {
      "cell_type": "code",
      "execution_count": 48,
      "metadata": {},
      "outputs": [],
      "source": [
        "import pandas as pd\n",
        "import numpy as np\n",
        "import matplotlib.pyplot as plt\n",
        "import seaborn as sns\n",
        "from sklearn.linear_model import LogisticRegression\n",
        "from sklearn.metrics import accuracy_score, classification_report, precision_score, recall_score\n",
        "from sklearn.metrics import confusion_matrix, precision_recall_curve, roc_curve, auc, log_loss\n",
        "from sklearn.model_selection import train_test_split\n",
        "from sklearn.metrics import classification_report\n",
        "%matplotlib inline"
      ]
    },
    {
      "cell_type": "markdown",
      "metadata": {
        "id": "BQJxgwED1GYy"
      },
      "source": [
        "## The Data\n",
        "\n",
        "Let's start by reading in the titanic_train.csv file into a pandas dataframe."
      ]
    },
    {
      "cell_type": "code",
      "execution_count": 49,
      "metadata": {
        "collapsed": true,
        "id": "M27zZvOl1GYz"
      },
      "outputs": [],
      "source": [
        "df = pd.read_csv('titanic.csv', usecols=['Age', 'Fare', 'Survived'])"
      ]
    },
    {
      "cell_type": "code",
      "execution_count": 36,
      "metadata": {
        "id": "l0BgQjHr1GYz",
        "outputId": "e32c4eb8-b626-4cf6-fa18-c1481d61511d"
      },
      "outputs": [
        {
          "data": {
            "text/html": [
              "<div>\n",
              "<style scoped>\n",
              "    .dataframe tbody tr th:only-of-type {\n",
              "        vertical-align: middle;\n",
              "    }\n",
              "\n",
              "    .dataframe tbody tr th {\n",
              "        vertical-align: top;\n",
              "    }\n",
              "\n",
              "    .dataframe thead th {\n",
              "        text-align: right;\n",
              "    }\n",
              "</style>\n",
              "<table border=\"1\" class=\"dataframe\">\n",
              "  <thead>\n",
              "    <tr style=\"text-align: right;\">\n",
              "      <th></th>\n",
              "      <th>Survived</th>\n",
              "      <th>Age</th>\n",
              "      <th>Fare</th>\n",
              "    </tr>\n",
              "  </thead>\n",
              "  <tbody>\n",
              "    <tr>\n",
              "      <th>0</th>\n",
              "      <td>0</td>\n",
              "      <td>22.0</td>\n",
              "      <td>7.2500</td>\n",
              "    </tr>\n",
              "    <tr>\n",
              "      <th>1</th>\n",
              "      <td>1</td>\n",
              "      <td>38.0</td>\n",
              "      <td>71.2833</td>\n",
              "    </tr>\n",
              "    <tr>\n",
              "      <th>2</th>\n",
              "      <td>1</td>\n",
              "      <td>26.0</td>\n",
              "      <td>7.9250</td>\n",
              "    </tr>\n",
              "    <tr>\n",
              "      <th>3</th>\n",
              "      <td>1</td>\n",
              "      <td>35.0</td>\n",
              "      <td>53.1000</td>\n",
              "    </tr>\n",
              "    <tr>\n",
              "      <th>4</th>\n",
              "      <td>0</td>\n",
              "      <td>35.0</td>\n",
              "      <td>8.0500</td>\n",
              "    </tr>\n",
              "  </tbody>\n",
              "</table>\n",
              "</div>"
            ],
            "text/plain": [
              "   Survived   Age     Fare\n",
              "0         0  22.0   7.2500\n",
              "1         1  38.0  71.2833\n",
              "2         1  26.0   7.9250\n",
              "3         1  35.0  53.1000\n",
              "4         0  35.0   8.0500"
            ]
          },
          "execution_count": 36,
          "metadata": {},
          "output_type": "execute_result"
        }
      ],
      "source": [
        "df.head()"
      ]
    },
    {
      "cell_type": "markdown",
      "metadata": {
        "id": "SsPWaiDJ1GY0"
      },
      "source": [
        "# Exploratory Data Analysis\n",
        "\n",
        "Let's begin some exploratory data analysis! We'll start by checking out missing data!\n",
        "\n",
        "## Missing Data"
      ]
    },
    {
      "cell_type": "code",
      "execution_count": 50,
      "metadata": {
        "id": "LaMcYPph1GY1",
        "outputId": "8b748f9b-735a-4c77-be2e-f199d53a57bb"
      },
      "outputs": [
        {
          "data": {
            "text/plain": [
              "Survived    0.000000\n",
              "Age         0.198653\n",
              "Fare        0.000000\n",
              "dtype: float64"
            ]
          },
          "execution_count": 50,
          "metadata": {},
          "output_type": "execute_result"
        }
      ],
      "source": [
        "df.isnull().mean()"
      ]
    },
    {
      "cell_type": "markdown",
      "metadata": {
        "id": "oyDIQ3zv1GY1"
      },
      "source": [
        "Roughly 20 percent of the Age data is missing. The proportion of Age missing is likely small enough for reasonable replacement with some form of imputation. Looking at the Cabin column, it looks like we are just missing too much of that data to do something useful with at a basic level. We'll probably drop this later, or change it to another feature like \"Cabin Known: 1 or 0\"\n",
        "\n",
        "Let's continue on by visualizing some more of the data! Check out the video for full explanations over these plots, this code is just to serve as reference."
      ]
    },
    {
      "cell_type": "code",
      "execution_count": 51,
      "metadata": {
        "id": "JEp2kRXV1GY3",
        "outputId": "cfbb50ac-7ab5-44d4-f13f-845f1fe1ccd1"
      },
      "outputs": [
        {
          "data": {
            "text/plain": [
              "<AxesSubplot:xlabel='Survived', ylabel='count'>"
            ]
          },
          "execution_count": 51,
          "metadata": {},
          "output_type": "execute_result"
        },
        {
          "data": {
            "image/png": "[encoded data removed]",
            "text/plain": [
              "<Figure size 432x288 with 1 Axes>"
            ]
          },
          "metadata": {},
          "output_type": "display_data"
        }
      ],
      "source": [
        "sns.set_style('whitegrid')\n",
        "sns.countplot(x='Survived',data=df,palette='rainbow')"
      ]
    },
    {
      "cell_type": "markdown",
      "metadata": {},
      "source": [
        "# Câu 1: Viết chương trình đánh giá độ chính xác của thuật toán hồi quy logistic trong bài toán dự báo Sự sống/chết (Survived) của hành khách lên tàu Titanic dựa trên Độ tuổi (Age) và Giá vé (Fare) mà họ đã mua trong 14 tổ hợp làm sạch dữ liệu sau"
      ]
    },
    {
      "cell_type": "markdown",
      "metadata": {},
      "source": [
        "Initial logistic regression model"
      ]
    },
    {
      "cell_type": "code",
      "execution_count": 52,
      "metadata": {},
      "outputs": [],
      "source": [
        "logmodel = LogisticRegression()"
      ]
    },
    {
      "cell_type": "markdown",
      "metadata": {},
      "source": [
        "Create varible to store accuracy of model"
      ]
    },
    {
      "cell_type": "code",
      "execution_count": 53,
      "metadata": {},
      "outputs": [],
      "source": [
        "accuracy_results = []\n"
      ]
    },
    {
      "cell_type": "markdown",
      "metadata": {},
      "source": [
        "## 1.1 Without Outliers"
      ]
    },
    {
      "cell_type": "markdown",
      "metadata": {},
      "source": [
        "### Mean"
      ]
    },
    {
      "cell_type": "code",
      "execution_count": 54,
      "metadata": {},
      "outputs": [],
      "source": [
        "data = df.copy()\n",
        "\n",
        "mean=data['Age'].mean()\n",
        "data['Age']=data['Age'].fillna(mean)"
      ]
    },
    {
      "cell_type": "code",
      "execution_count": 55,
      "metadata": {},
      "outputs": [],
      "source": [
        "rs_acc = np.zeros(10)\n",
        "for i in range(10):\n",
        "    X_train, X_test, y_train, y_test = train_test_split(data.drop('Survived', axis=1),\n",
        "                                                        data['Survived'], test_size=0.30, \n",
        "                                                        random_state=i)\n",
        "    logmodel.fit(X_train,y_train)\n",
        "    predictions = logmodel.predict(X_test)\n",
        "    rs_acc[i] = (accuracy_score(y_test, predictions))\n",
        "\n",
        "accuracy_results.append(rs_acc.mean())"
      ]
    },
    {
      "cell_type": "markdown",
      "metadata": {},
      "source": [
        "### Median"
      ]
    },
    {
      "cell_type": "code",
      "execution_count": 56,
      "metadata": {},
      "outputs": [],
      "source": [
        "data = df.copy()\n",
        "\n",
        "median=data['Age'].median()\n",
        "data['Age']=data['Age'].fillna(median)"
      ]
    },
    {
      "cell_type": "code",
      "execution_count": 57,
      "metadata": {},
      "outputs": [],
      "source": [
        "rs_acc = []\n",
        "\n",
        "rs_acc = np.zeros(10)\n",
        "for i in range(10):\n",
        "    X_train, X_test, y_train, y_test = train_test_split(data.drop('Survived', axis=1),\n",
        "                                                    data['Survived'], test_size=0.30, \n",
        "                                                    random_state=i)\n",
        "\n",
        "    logmodel = LogisticRegression()\n",
        "    logmodel.fit(X_train,y_train)\n",
        "    rs_acc[i] = (accuracy_score(y_test, predictions))\n",
        "\n",
        "accuracy_results.append(rs_acc.mean())\n"
      ]
    },
    {
      "cell_type": "markdown",
      "metadata": {},
      "source": [
        "### Mode"
      ]
    },
    {
      "cell_type": "code",
      "execution_count": 58,
      "metadata": {},
      "outputs": [],
      "source": [
        "data = df.copy()\n",
        "\n",
        "mode=data['Age'].mode()[0]\n",
        "data['Age']=data['Age'].fillna(mode)\n"
      ]
    },
    {
      "cell_type": "code",
      "execution_count": 59,
      "metadata": {},
      "outputs": [],
      "source": [
        "\n",
        "rs_acc = []\n",
        "\n",
        "rs_acc = np.zeros(10)\n",
        "for i in range(10):\n",
        "    X_train, X_test, y_train, y_test = train_test_split(data.drop('Survived', axis=1),\n",
        "                                                    data['Survived'], test_size=0.30, \n",
        "                                                    random_state=i)\n",
        "\n",
        "    logmodel = LogisticRegression()\n",
        "    logmodel.fit(X_train,y_train)\n",
        "    rs_acc[i] = (accuracy_score(y_test, predictions))\n",
        "\n",
        "accuracy_results.append(rs_acc.mean())\n"
      ]
    },
    {
      "cell_type": "markdown",
      "metadata": {},
      "source": [
        "### Random"
      ]
    },
    {
      "cell_type": "code",
      "execution_count": 60,
      "metadata": {},
      "outputs": [],
      "source": [
        "data = df.copy()\n",
        "random_samples = data['Age'].dropna().sample(n=data['Age'].isnull().sum(),random_state=0)\n",
        "random_samples.index = data[data['Age'].isnull()].index\n",
        "\n",
        "data.loc[data['Age'].isnull(), 'Age'] = random_samples"
      ]
    },
    {
      "cell_type": "code",
      "execution_count": 61,
      "metadata": {},
      "outputs": [],
      "source": [
        "\n",
        "rs_acc = []\n",
        "\n",
        "rs_acc = np.zeros(10)\n",
        "for i in range(10):\n",
        "    X_train, X_test, y_train, y_test = train_test_split(data.drop('Survived', axis=1),\n",
        "                                                    data['Survived'], test_size=0.30, \n",
        "                                                    random_state=i)\n",
        "\n",
        "    logmodel = LogisticRegression()\n",
        "    logmodel.fit(X_train,y_train)\n",
        "    rs_acc[i] = (accuracy_score(y_test, predictions))\n",
        "\n",
        "accuracy_results.append(rs_acc.mean())\n"
      ]
    },
    {
      "cell_type": "markdown",
      "metadata": {},
      "source": [
        "### End of Dist"
      ]
    },
    {
      "cell_type": "code",
      "execution_count": 62,
      "metadata": {},
      "outputs": [],
      "source": [
        "data = df.copy()\n",
        "extreme_value = data.Age.mean() + 3*data.Age.std()\n",
        "data['Age'].fillna(extreme_value, inplace=True)"
      ]
    },
    {
      "cell_type": "code",
      "execution_count": 63,
      "metadata": {},
      "outputs": [],
      "source": [
        "\n",
        "rs_acc = []\n",
        "\n",
        "rs_acc = np.zeros(10)\n",
        "for i in range(10):\n",
        "    X_train, X_test, y_train, y_test = train_test_split(data.drop('Survived', axis=1),\n",
        "                                                    data['Survived'], test_size=0.30, \n",
        "                                                    random_state=i)\n",
        "\n",
        "    logmodel = LogisticRegression()\n",
        "    logmodel.fit(X_train,y_train)\n",
        "    rs_acc[i] = (accuracy_score(y_test, predictions))\n",
        "\n",
        "accuracy_results.append(rs_acc.mean())\n"
      ]
    },
    {
      "cell_type": "markdown",
      "metadata": {},
      "source": [
        "### Arbitrary"
      ]
    },
    {
      "cell_type": "code",
      "execution_count": 64,
      "metadata": {},
      "outputs": [],
      "source": [
        "data = df.copy()\n",
        "data['Age'].fillna(20, inplace=True)"
      ]
    },
    {
      "cell_type": "code",
      "execution_count": 65,
      "metadata": {},
      "outputs": [],
      "source": [
        "\n",
        "\n",
        "rs_acc = []\n",
        "\n",
        "rs_acc = np.zeros(10)\n",
        "for i in range(10):\n",
        "    X_train, X_test, y_train, y_test = train_test_split(data.drop('Survived', axis=1),\n",
        "                                                    data['Survived'], test_size=0.30, \n",
        "                                                    random_state=i)\n",
        "\n",
        "    logmodel = LogisticRegression()\n",
        "    logmodel.fit(X_train,y_train)\n",
        "    rs_acc[i] = (accuracy_score(y_test, predictions))\n",
        "\n",
        "accuracy_results.append(rs_acc.mean())\n"
      ]
    },
    {
      "cell_type": "markdown",
      "metadata": {},
      "source": [
        "### New feature"
      ]
    },
    {
      "cell_type": "code",
      "execution_count": 66,
      "metadata": {},
      "outputs": [],
      "source": [
        "data = df.copy()\n",
        "data['Age_NAN']=np.where(data['Age'].isnull(),1,0)\n",
        "data['Age'].fillna(data.Age.median(),inplace=True)"
      ]
    },
    {
      "cell_type": "code",
      "execution_count": 67,
      "metadata": {},
      "outputs": [],
      "source": [
        "rs_acc = []\n",
        "\n",
        "rs_acc = np.zeros(10)\n",
        "for i in range(10):\n",
        "    X_train, X_test, y_train, y_test = train_test_split(data.drop('Survived', axis=1),\n",
        "                                                    data['Survived'], test_size=0.30, \n",
        "                                                    random_state=i)\n",
        "\n",
        "    logmodel = LogisticRegression()\n",
        "    logmodel.fit(X_train,y_train)\n",
        "    rs_acc[i] = (accuracy_score(y_test, predictions))\n",
        "\n",
        "accuracy_results.append(rs_acc.mean())"
      ]
    },
    {
      "cell_type": "code",
      "execution_count": 68,
      "metadata": {},
      "outputs": [
        {
          "name": "stdout",
          "output_type": "stream",
          "text": [
            "[0.6529850746268656, 0.603731343283582, 0.603731343283582, 0.603731343283582, 0.603731343283582, 0.603731343283582, 0.603731343283582]\n"
          ]
        }
      ],
      "source": [
        "print(accuracy_results)"
      ]
    },
    {
      "cell_type": "markdown",
      "metadata": {},
      "source": [
        "## With Outliers"
      ]
    },
    {
      "cell_type": "code",
      "execution_count": 69,
      "metadata": {},
      "outputs": [
        {
          "data": {
            "text/plain": [
              "Text(0, 0.5, 'No of passenger')"
            ]
          },
          "execution_count": 69,
          "metadata": {},
          "output_type": "execute_result"
        },
        {
          "data": {
            "image/png": "[encoded data removed]",
            "text/plain": [
              "<Figure size 432x288 with 1 Axes>"
            ]
          },
          "metadata": {},
          "output_type": "display_data"
        }
      ],
      "source": [
        "figure=df.Fare.hist(bins=50)\n",
        "figure.set_title('Fare')\n",
        "figure.set_xlabel('Fare')\n",
        "figure.set_ylabel('No of passenger')"
      ]
    },
    {
      "cell_type": "code",
      "execution_count": 72,
      "metadata": {},
      "outputs": [
        {
          "name": "stdout",
          "output_type": "stream",
          "text": [
            "-13.880374349943303\n",
            "73.27860964406094\n",
            "29.69911764705882\n"
          ]
        },
        {
          "data": {
            "text/plain": [
              "(None, None, None)"
            ]
          },
          "execution_count": 72,
          "metadata": {},
          "output_type": "execute_result"
        }
      ],
      "source": [
        "##### Assuming Age follows A Gaussian Distribution we will calculate the boundaries which differentiates the outliers\n",
        "\n",
        "uppper_boundary=df['Age'].mean() + 3* df['Age'].std()\n",
        "lower_boundary=df['Age'].mean() - 3* df['Age'].std()\n",
        "print(lower_boundary), print(uppper_boundary),print(df['Age'].mean())"
      ]
    },
    {
      "cell_type": "code",
      "execution_count": 73,
      "metadata": {},
      "outputs": [
        {
          "name": "stdout",
          "output_type": "stream",
          "text": [
            "-26.724\n",
            "65.6344\n"
          ]
        },
        {
          "data": {
            "text/plain": [
              "(None, None)"
            ]
          },
          "execution_count": 73,
          "metadata": {},
          "output_type": "execute_result"
        }
      ],
      "source": [
        "#### Lets compute the Interquantile range to calculate the boundaries\n",
        "IQR=df.Fare.quantile(0.75)-df.Fare.quantile(0.25)\n",
        "lower_bridge=df['Fare'].quantile(0.25)-(IQR*1.5)\n",
        "upper_bridge=df['Fare'].quantile(0.75)+(IQR*1.5)\n",
        "print(lower_bridge), print(upper_bridge)"
      ]
    },
    {
      "cell_type": "code",
      "execution_count": 74,
      "metadata": {},
      "outputs": [
        {
          "name": "stdout",
          "output_type": "stream",
          "text": [
            "-61.358399999999996\n",
            "100.2688\n"
          ]
        },
        {
          "data": {
            "text/plain": [
              "(None, None)"
            ]
          },
          "execution_count": 74,
          "metadata": {},
          "output_type": "execute_result"
        }
      ],
      "source": [
        "#### Extreme outliers\n",
        "lower_bridge=df['Fare'].quantile(0.25)-(IQR*3)\n",
        "upper_bridge=df['Fare'].quantile(0.75)+(IQR*3)\n",
        "print(lower_bridge), print(upper_bridge)"
      ]
    },
    {
      "cell_type": "code",
      "execution_count": 23,
      "metadata": {},
      "outputs": [],
      "source": [
        "outliers_data=df.copy()\n",
        "outliers_data.loc[outliers_data['Age']>=73,'Age']=73\n",
        "outliers_data.loc[outliers_data['Fare']>=100,'Fare']=100"
      ]
    },
    {
      "cell_type": "code",
      "execution_count": 24,
      "metadata": {},
      "outputs": [
        {
          "data": {
            "text/plain": [
              "Text(0, 0.5, 'No of passenger')"
            ]
          },
          "execution_count": 24,
          "metadata": {},
          "output_type": "execute_result"
        },
        {
          "data": {
            "image/png": "[encoded data removed]",
            "text/plain": [
              "<Figure size 432x288 with 1 Axes>"
            ]
          },
          "metadata": {},
          "output_type": "display_data"
        }
      ],
      "source": [
        "figure=outliers_data.Age.hist(bins=50)\n",
        "figure.set_title('Age')\n",
        "figure.set_xlabel('Age')\n",
        "figure.set_ylabel('No of passenger')"
      ]
    },
    {
      "cell_type": "code",
      "execution_count": 25,
      "metadata": {},
      "outputs": [
        {
          "data": {
            "text/plain": [
              "Text(0, 0.5, 'No of passenger')"
            ]
          },
          "execution_count": 25,
          "metadata": {},
          "output_type": "execute_result"
        },
        {
          "data": {
            "image/png": "[encoded data removed]",
            "text/plain": [
              "<Figure size 432x288 with 1 Axes>"
            ]
          },
          "metadata": {},
          "output_type": "display_data"
        }
      ],
      "source": [
        "figure=outliers_data.Fare.hist(bins=50)\n",
        "figure.set_title('Fare')\n",
        "figure.set_xlabel('Fare')\n",
        "figure.set_ylabel('No of passenger')"
      ]
    },
    {
      "cell_type": "markdown",
      "metadata": {},
      "source": [
        "### Mean"
      ]
    },
    {
      "cell_type": "code",
      "execution_count": 26,
      "metadata": {},
      "outputs": [],
      "source": [
        "data = outliers_data.copy()\n",
        "\n",
        "mean=data['Age'].mean()\n",
        "data['Age']=data['Age'].fillna(mean)"
      ]
    },
    {
      "cell_type": "code",
      "execution_count": 27,
      "metadata": {},
      "outputs": [
        {
          "name": "stdout",
          "output_type": "stream",
          "text": [
            "              precision    recall  f1-score   support\n",
            "\n",
            "           0       0.74      0.95      0.84       174\n",
            "           1       0.82      0.39      0.53        94\n",
            "\n",
            "    accuracy                           0.76       268\n",
            "   macro avg       0.78      0.67      0.68       268\n",
            "weighted avg       0.77      0.76      0.73       268\n",
            "\n",
            "0.7574626865671642\n"
          ]
        }
      ],
      "source": [
        "rs_acc = []\n",
        "\n",
        "rs_acc = np.zeros(10)\n",
        "for i in range(10):\n",
        "    X_train, X_test, y_train, y_test = train_test_split(data.drop('Survived', axis=1),\n",
        "                                                    data['Survived'], test_size=0.30, \n",
        "                                                    random_state=i)\n",
        "\n",
        "    logmodel = LogisticRegression()\n",
        "    logmodel.fit(X_train,y_train)\n",
        "    rs_acc[i] = (accuracy_score(y_test, predictions))\n",
        "\n",
        "accuracy_results.append(rs_acc.mean())"
      ]
    },
    {
      "cell_type": "markdown",
      "metadata": {},
      "source": [
        "### Median"
      ]
    },
    {
      "cell_type": "code",
      "execution_count": 28,
      "metadata": {},
      "outputs": [],
      "source": [
        "data = outliers_data.copy()\n",
        "median=data['Age'].median()\n",
        "data['Age']=data['Age'].fillna(median)"
      ]
    },
    {
      "cell_type": "code",
      "execution_count": 29,
      "metadata": {},
      "outputs": [
        {
          "name": "stdout",
          "output_type": "stream",
          "text": [
            "              precision    recall  f1-score   support\n",
            "\n",
            "           0       0.67      0.91      0.77       160\n",
            "           1       0.72      0.35      0.47       108\n",
            "\n",
            "    accuracy                           0.68       268\n",
            "   macro avg       0.70      0.63      0.62       268\n",
            "weighted avg       0.69      0.68      0.65       268\n",
            "\n"
          ]
        }
      ],
      "source": [
        "rs_acc = []\n",
        "\n",
        "rs_acc = np.zeros(10)\n",
        "for i in range(10):\n",
        "    X_train, X_test, y_train, y_test = train_test_split(data.drop('Survived', axis=1),\n",
        "                                                    data['Survived'], test_size=0.30, \n",
        "                                                    random_state=i)\n",
        "\n",
        "    logmodel = LogisticRegression()\n",
        "    logmodel.fit(X_train,y_train)\n",
        "    rs_acc[i] = (accuracy_score(y_test, predictions))\n",
        "\n",
        "accuracy_results.append(rs_acc.mean())\n"
      ]
    }
  ],
  "metadata": {
    "colab": {
      "name": "01-Logistic Regression with Python.ipynb",
      "provenance": []
    },
    "interpreter": {
      "hash": "c15d9c9362166e95cd73f5d78a8dc6fc2b8905a485879260c713a6df96ceb4f4"
    },
    "kernelspec": {
      "display_name": "Python 3.9.5 ('.venv': venv)",
      "language": "python",
      "name": "python3"
    },
    "language_info": {
      "codemirror_mode": {
        "name": "ipython",
        "version": 3
      },
      "file_extension": ".py",
      "mimetype": "text/x-python",
      "name": "python",
      "nbconvert_exporter": "python",
      "pygments_lexer": "ipython3",
      "version": "3.9.5"
    }
  },
  "nbformat": 4,
  "nbformat_minor": 0
}
